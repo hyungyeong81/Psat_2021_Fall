{
  "nbformat": 4,
  "nbformat_minor": 0,
  "metadata": {
    "colab": {
      "name": "홍현경_주분3주차_패키지.ipynb",
      "provenance": [],
      "collapsed_sections": []
    },
    "kernelspec": {
      "name": "python3",
      "display_name": "Python 3"
    },
    "language_info": {
      "name": "python"
    }
  },
  "cells": [
    {
      "cell_type": "code",
      "metadata": {
        "colab": {
          "base_uri": "https://localhost:8080/"
        },
        "id": "EX8AgWyVAweO",
        "outputId": "1abb7922-299d-4a10-8aab-d43758430921"
      },
      "source": [
        "from google.colab import drive\n",
        "drive.mount('/content/drive')"
      ],
      "execution_count": 1,
      "outputs": [
        {
          "output_type": "stream",
          "name": "stdout",
          "text": [
            "Mounted at /content/drive\n"
          ]
        }
      ]
    },
    {
      "cell_type": "code",
      "metadata": {
        "colab": {
          "base_uri": "https://localhost:8080/"
        },
        "id": "b8K_5JGsBSaO",
        "outputId": "acd3c5e4-810d-4687-a8a8-464f7497674e"
      },
      "source": [
        "cd '/content/drive/MyDrive/주분3주차 패키지/data'"
      ],
      "execution_count": 2,
      "outputs": [
        {
          "output_type": "stream",
          "name": "stdout",
          "text": [
            "/content/drive/MyDrive/주분3주차 패키지/data\n"
          ]
        }
      ]
    },
    {
      "cell_type": "code",
      "metadata": {
        "id": "qscHIaNHBmJ2"
      },
      "source": [
        "# 필요한 라이브러리 불러오기\n",
        "import pandas as pd\n",
        "import numpy as np\n",
        "import matplotlib.pyplot as plt\n",
        "\n",
        "import random\n",
        "import os\n",
        "\n",
        "from sklearn.svm import SVC\n",
        "from lightgbm import LGBMRegressor\n",
        "import tensorflow as tf\n",
        "\n",
        "from sklearn.model_selection import train_test_split, GridSearchCV\n",
        "from sklearn.metrics import confusion_matrix, mean_squared_error\n",
        "from sklearn.preprocessing import MinMaxScaler\n",
        "\n",
        "from keras.models import Sequential\n",
        "from keras.layers import Dense, LSTM, Dropout, Activation\n",
        "from keras.callbacks import EarlyStopping, ModelCheckpoint"
      ],
      "execution_count": 24,
      "outputs": []
    },
    {
      "cell_type": "code",
      "metadata": {
        "id": "wego7yBUCTu9"
      },
      "source": [
        "# 시드고정\n",
        "np.random.seed(2728)\n",
        "random.seed(2728)\n",
        "os.environ[\"PYTHONHASHSEED\"] = str(2728)"
      ],
      "execution_count": 4,
      "outputs": []
    },
    {
      "cell_type": "markdown",
      "metadata": {
        "id": "ue0qwO4TBwwl"
      },
      "source": [
        "# Chapter 1. SVM(Support Vector Machine)"
      ]
    },
    {
      "cell_type": "markdown",
      "metadata": {
        "id": "pYnfERUkB4oY"
      },
      "source": [
        "## 문제 1. data1.csv 항목 불러오기"
      ]
    },
    {
      "cell_type": "code",
      "metadata": {
        "colab": {
          "base_uri": "https://localhost:8080/",
          "height": 206
        },
        "id": "qxakERZEBczr",
        "outputId": "744292df-5230-4368-ba89-2f68a941cecf"
      },
      "source": [
        "svm_data = pd.read_csv(\"data1.csv\")\n",
        "# 불러온 데이터 확인\n",
        "svm_data.head()"
      ],
      "execution_count": null,
      "outputs": [
        {
          "output_type": "execute_result",
          "data": {
            "text/html": [
              "<div>\n",
              "<style scoped>\n",
              "    .dataframe tbody tr th:only-of-type {\n",
              "        vertical-align: middle;\n",
              "    }\n",
              "\n",
              "    .dataframe tbody tr th {\n",
              "        vertical-align: top;\n",
              "    }\n",
              "\n",
              "    .dataframe thead th {\n",
              "        text-align: right;\n",
              "    }\n",
              "</style>\n",
              "<table border=\"1\" class=\"dataframe\">\n",
              "  <thead>\n",
              "    <tr style=\"text-align: right;\">\n",
              "      <th></th>\n",
              "      <th>sepal length (cm)</th>\n",
              "      <th>sepal width (cm)</th>\n",
              "      <th>petal length (cm)</th>\n",
              "      <th>petal width (cm)</th>\n",
              "      <th>target</th>\n",
              "    </tr>\n",
              "  </thead>\n",
              "  <tbody>\n",
              "    <tr>\n",
              "      <th>0</th>\n",
              "      <td>5.1</td>\n",
              "      <td>3.5</td>\n",
              "      <td>1.4</td>\n",
              "      <td>0.2</td>\n",
              "      <td>setosa</td>\n",
              "    </tr>\n",
              "    <tr>\n",
              "      <th>1</th>\n",
              "      <td>4.9</td>\n",
              "      <td>3.0</td>\n",
              "      <td>1.4</td>\n",
              "      <td>0.2</td>\n",
              "      <td>setosa</td>\n",
              "    </tr>\n",
              "    <tr>\n",
              "      <th>2</th>\n",
              "      <td>4.7</td>\n",
              "      <td>3.2</td>\n",
              "      <td>1.3</td>\n",
              "      <td>0.2</td>\n",
              "      <td>setosa</td>\n",
              "    </tr>\n",
              "    <tr>\n",
              "      <th>3</th>\n",
              "      <td>4.6</td>\n",
              "      <td>3.1</td>\n",
              "      <td>1.5</td>\n",
              "      <td>0.2</td>\n",
              "      <td>setosa</td>\n",
              "    </tr>\n",
              "    <tr>\n",
              "      <th>4</th>\n",
              "      <td>5.0</td>\n",
              "      <td>3.6</td>\n",
              "      <td>1.4</td>\n",
              "      <td>0.2</td>\n",
              "      <td>setosa</td>\n",
              "    </tr>\n",
              "  </tbody>\n",
              "</table>\n",
              "</div>"
            ],
            "text/plain": [
              "   sepal length (cm)  sepal width (cm)  ...  petal width (cm)  target\n",
              "0                5.1               3.5  ...               0.2  setosa\n",
              "1                4.9               3.0  ...               0.2  setosa\n",
              "2                4.7               3.2  ...               0.2  setosa\n",
              "3                4.6               3.1  ...               0.2  setosa\n",
              "4                5.0               3.6  ...               0.2  setosa\n",
              "\n",
              "[5 rows x 5 columns]"
            ]
          },
          "metadata": {},
          "execution_count": 24
        }
      ]
    },
    {
      "cell_type": "markdown",
      "metadata": {
        "id": "18H3Sgd8iCAp"
      },
      "source": [
        "## 문제 2. target의 setosa를 0으로, versicolor을 1로, virginica를 2로 변경"
      ]
    },
    {
      "cell_type": "code",
      "metadata": {
        "id": "zJPxOovDCoVk"
      },
      "source": [
        "# map의 인자로 dict를 전달하여 값 변경\n",
        "svm_data['target'] = svm_data['target'].map({'setosa' : 0, 'versicolor' : 1, 'virginica' : 2})"
      ],
      "execution_count": null,
      "outputs": []
    },
    {
      "cell_type": "code",
      "metadata": {
        "colab": {
          "base_uri": "https://localhost:8080/"
        },
        "id": "6MmqCfi4j6y7",
        "outputId": "b8842603-0fd0-4441-f4a0-2f3b35d7030a"
      },
      "source": [
        "# 변경된 값 확인\n",
        "svm_data['target'].value_counts()"
      ],
      "execution_count": null,
      "outputs": [
        {
          "output_type": "execute_result",
          "data": {
            "text/plain": [
              "2    50\n",
              "1    50\n",
              "0    50\n",
              "Name: target, dtype: int64"
            ]
          },
          "metadata": {},
          "execution_count": 42
        }
      ]
    },
    {
      "cell_type": "markdown",
      "metadata": {
        "id": "bVgi1FZpiVDq"
      },
      "source": [
        "## 문제 3. Train Test Split(Test의 비율은 0.3)"
      ]
    },
    {
      "cell_type": "code",
      "metadata": {
        "id": "tos5jt5niR8Q"
      },
      "source": [
        "# Train, Test 분리 전 X와 y값 우선 분리\n",
        "# X는 sepal length와 sepal width만 사용\n",
        "X = svm_data.iloc[:, 0:2]\n",
        "y = svm_data.iloc[:, -1]"
      ],
      "execution_count": null,
      "outputs": []
    },
    {
      "cell_type": "code",
      "metadata": {
        "id": "XMvMtL4_jhmi"
      },
      "source": [
        "# Train Test Split\n",
        "X_train, X_test, y_train, y_test = train_test_split(X, y, test_size = 0.3, random_state = 2728)"
      ],
      "execution_count": null,
      "outputs": []
    },
    {
      "cell_type": "markdown",
      "metadata": {
        "id": "gCX-dVnblUcw"
      },
      "source": [
        "## 문제 4. SVM의 하이퍼파라미터에 대한 설명\n",
        "* C는 regularization parameter, penalty parameter로 분류 오차에 대한 비용을 조정한다. C값이 클수록 오차에 대한 비용이 커지고, C값이 작을수록 분류 오차에 덜 엄격해진다. 따라서 C값을 크게 할수록 학습 데이터에 대한 오버피팅 위험이 있다.\n",
        "* kernel은 데이터를 분류하기 위한 초평면의 형태를 나타낸다.'linear'은 선형 경계를, 'rbf', 'poly', 'sigmoid'는 비선형 경계를 나타낸다.\n",
        "* gamma는 kernel값이 비선형에 해당하는 경우에 쓰이며, gamma 값이 클수록 학습 데이터에 대한 오버피팅 위험이 있다."
      ]
    },
    {
      "cell_type": "markdown",
      "metadata": {
        "id": "pDLxzU6-lbpE"
      },
      "source": [
        "## 문제 5. 하이퍼파라미터 튜닝 진행"
      ]
    },
    {
      "cell_type": "code",
      "metadata": {
        "colab": {
          "base_uri": "https://localhost:8080/"
        },
        "id": "-8atW8-OlbAX",
        "outputId": "a409fb72-34ef-4ded-857b-ef140ecd5a8a"
      },
      "source": [
        "parameters = {\n",
        "    'kernel' : ['linear'],\n",
        "    'C' : [0.01, 0.1, 1, 10, 30, 50, 70]\n",
        "}\n",
        "\n",
        "model = SVC(random_state = 2728)\n",
        "\n",
        "grid_search = GridSearchCV(model, param_grid = parameters, cv = 5, scoring = 'accuracy')\n",
        "grid_search.fit(X_train, y_train)"
      ],
      "execution_count": null,
      "outputs": [
        {
          "output_type": "execute_result",
          "data": {
            "text/plain": [
              "GridSearchCV(cv=5, error_score=nan,\n",
              "             estimator=SVC(C=1.0, break_ties=False, cache_size=200,\n",
              "                           class_weight=None, coef0=0.0,\n",
              "                           decision_function_shape='ovr', degree=3,\n",
              "                           gamma='scale', kernel='rbf', max_iter=-1,\n",
              "                           probability=False, random_state=2728, shrinking=True,\n",
              "                           tol=0.001, verbose=False),\n",
              "             iid='deprecated', n_jobs=None,\n",
              "             param_grid={'C': [0.01, 0.1, 1, 10, 30, 50, 70],\n",
              "                         'kernel': ['linear']},\n",
              "             pre_dispatch='2*n_jobs', refit=True, return_train_score=False,\n",
              "             scoring='accuracy', verbose=0)"
            ]
          },
          "metadata": {},
          "execution_count": 45
        }
      ]
    },
    {
      "cell_type": "markdown",
      "metadata": {
        "id": "IxCsJkGu1hEd"
      },
      "source": [
        "## 문제 6. 최적 파라미터의 조합과 결과 출력"
      ]
    },
    {
      "cell_type": "code",
      "metadata": {
        "colab": {
          "base_uri": "https://localhost:8080/"
        },
        "id": "iU7gNvdU1efa",
        "outputId": "665032ab-2601-4fc8-c9da-6cf5af64974d"
      },
      "source": [
        "print('best parameters : ', grid_search.best_params_)\n",
        "print('best score : ', grid_search.best_score_)"
      ],
      "execution_count": null,
      "outputs": [
        {
          "output_type": "stream",
          "name": "stdout",
          "text": [
            "best parameters :  {'C': 1, 'kernel': 'linear'}\n",
            "best score :  0.819047619047619\n"
          ]
        }
      ]
    },
    {
      "cell_type": "markdown",
      "metadata": {
        "id": "YzMbsqxR12vC"
      },
      "source": [
        "## 문제 7. 테스트셋을 예측한 후 결과 출력"
      ]
    },
    {
      "cell_type": "code",
      "metadata": {
        "id": "m882wZEt17Y-"
      },
      "source": [
        "# refit = True인 경우 최적의 파라미터 조합으로 전체 훈련 데이터에 대한 모델 학습을 진행하므로 아래의 두 줄은 사실 필요 없음(default가 True임)\n",
        "model = SVC(C = 1, kernel = 'linear', random_state = 2728)\n",
        "model.fit(X_train, y_train)\n",
        "\n",
        "# test set에 대한 예측 시행\n",
        "y_pred = model.predict(X_test)"
      ],
      "execution_count": null,
      "outputs": []
    },
    {
      "cell_type": "code",
      "metadata": {
        "colab": {
          "base_uri": "https://localhost:8080/"
        },
        "id": "umT_av7w2x9L",
        "outputId": "56c268ae-9a6f-4756-f1bb-b543e2d7cefa"
      },
      "source": [
        "# 혼동행렬 확인\n",
        "print('confusion matrix :\\n', confusion_matrix(y_test, y_pred))"
      ],
      "execution_count": null,
      "outputs": [
        {
          "output_type": "stream",
          "name": "stdout",
          "text": [
            "confusion matrix :\n",
            " [[20  0  0]\n",
            " [ 0  7  3]\n",
            " [ 0  7  8]]\n"
          ]
        }
      ]
    },
    {
      "cell_type": "markdown",
      "metadata": {
        "id": "w6nvWD_s4V69"
      },
      "source": [
        "## 문제 8. Decision Boundary 시각화"
      ]
    },
    {
      "cell_type": "markdown",
      "metadata": {
        "id": "22Ll5i4d9Uze"
      },
      "source": [
        "아래의 두 자료를 참고하여 시각화를 진행했습니다.  \n",
        "[참고자료1](https://stackoverflow.com/questions/51297423/plot-scikit-learn-sklearn-svm-decision-boundary-surface) Plot different SVM classifiers in the iris dataset  \n",
        "[참고자료2](https://scikit-learn.org/0.18/auto_examples/svm/plot_iris.html) Plot scikit-learn (sklearn) SVM decision boundary / surface  "
      ]
    },
    {
      "cell_type": "code",
      "metadata": {
        "id": "Ne5cEd5G5vVZ"
      },
      "source": [
        "def make_meshgrid(X, h = 0.02):\n",
        "  x_min, x_max = X.iloc[:, 0].min() - 1, X.iloc[:, 0].max() + 1\n",
        "  y_min, y_max = X.iloc[:, 1].min() - 1, X.iloc[:, 1].max() + 1\n",
        "  xx, yy = np.meshgrid(np.arange(x_min, x_max, h), np.arange(y_min, y_max, h))\n",
        "  return xx, yy"
      ],
      "execution_count": null,
      "outputs": []
    },
    {
      "cell_type": "code",
      "metadata": {
        "id": "rvB12Pdn60yz"
      },
      "source": [
        "def plot_decision_boundary(X, xx, yy):\n",
        "  result = model.predict(np.c_[xx.ravel(), yy.ravel()])\n",
        "  result = result.reshape(xx.shape)\n",
        "\n",
        "  plt.contourf(xx, yy, result, cmap = plt.cm.coolwarm, alpha=0.8)\n",
        "  plt.scatter(X.iloc[:, 0], X.iloc[:, 1], c = y, cmap = plt.cm.coolwarm)\n",
        "  plt.xlabel('Sepal length')\n",
        "  plt.ylabel('Sepal width')\n",
        "  plt.xlim(xx.min(), xx.max())\n",
        "  plt.ylim(yy.min(), yy.max())\n",
        "  plt.xticks(())\n",
        "  plt.yticks(())\n",
        "  plt.title('SVM')"
      ],
      "execution_count": null,
      "outputs": []
    },
    {
      "cell_type": "code",
      "metadata": {
        "colab": {
          "base_uri": "https://localhost:8080/",
          "height": 278
        },
        "id": "bduazIhB7veP",
        "outputId": "dbb282da-c65c-41fd-9e16-eec186269379"
      },
      "source": [
        "xx, yy = make_meshgrid(X)\n",
        "plot_decision_boundary(X, xx, yy)"
      ],
      "execution_count": null,
      "outputs": [
        {
          "output_type": "display_data",
          "data": {
            "image/png": "[encoded data removed]",
            "text/plain": [
              "<Figure size 432x288 with 1 Axes>"
            ]
          },
          "metadata": {}
        }
      ]
    },
    {
      "cell_type": "markdown",
      "metadata": {
        "id": "OG2-g5hB-QfF"
      },
      "source": [
        "# Chapter 2. LGBM"
      ]
    },
    {
      "cell_type": "markdown",
      "metadata": {
        "id": "vjnzScDt-Uwz"
      },
      "source": [
        "## 문제 1. data2.csv 불러오기"
      ]
    },
    {
      "cell_type": "code",
      "metadata": {
        "colab": {
          "base_uri": "https://localhost:8080/",
          "height": 206
        },
        "id": "sxjTf-C7-UI4",
        "outputId": "50448e77-6c04-480a-dc9e-ade632adc804"
      },
      "source": [
        "lgbm_data = pd.read_csv('data2.csv')\n",
        "lgbm_data.head()"
      ],
      "execution_count": null,
      "outputs": [
        {
          "output_type": "execute_result",
          "data": {
            "text/html": [
              "<div>\n",
              "<style scoped>\n",
              "    .dataframe tbody tr th:only-of-type {\n",
              "        vertical-align: middle;\n",
              "    }\n",
              "\n",
              "    .dataframe tbody tr th {\n",
              "        vertical-align: top;\n",
              "    }\n",
              "\n",
              "    .dataframe thead th {\n",
              "        text-align: right;\n",
              "    }\n",
              "</style>\n",
              "<table border=\"1\" class=\"dataframe\">\n",
              "  <thead>\n",
              "    <tr style=\"text-align: right;\">\n",
              "      <th></th>\n",
              "      <th>target</th>\n",
              "      <th>MedInc</th>\n",
              "      <th>HouseAge</th>\n",
              "      <th>AveRooms</th>\n",
              "      <th>AveBedrms</th>\n",
              "      <th>Population</th>\n",
              "      <th>AveOccup</th>\n",
              "      <th>Latitude</th>\n",
              "      <th>Longitude</th>\n",
              "    </tr>\n",
              "  </thead>\n",
              "  <tbody>\n",
              "    <tr>\n",
              "      <th>0</th>\n",
              "      <td>4.526</td>\n",
              "      <td>8.3252</td>\n",
              "      <td>41.0</td>\n",
              "      <td>6.984127</td>\n",
              "      <td>1.023810</td>\n",
              "      <td>322.0</td>\n",
              "      <td>2.555556</td>\n",
              "      <td>37.88</td>\n",
              "      <td>-122.23</td>\n",
              "    </tr>\n",
              "    <tr>\n",
              "      <th>1</th>\n",
              "      <td>3.585</td>\n",
              "      <td>8.3014</td>\n",
              "      <td>21.0</td>\n",
              "      <td>6.238137</td>\n",
              "      <td>0.971880</td>\n",
              "      <td>2401.0</td>\n",
              "      <td>2.109842</td>\n",
              "      <td>37.86</td>\n",
              "      <td>-122.22</td>\n",
              "    </tr>\n",
              "    <tr>\n",
              "      <th>2</th>\n",
              "      <td>3.521</td>\n",
              "      <td>7.2574</td>\n",
              "      <td>52.0</td>\n",
              "      <td>8.288136</td>\n",
              "      <td>1.073446</td>\n",
              "      <td>496.0</td>\n",
              "      <td>2.802260</td>\n",
              "      <td>37.85</td>\n",
              "      <td>-122.24</td>\n",
              "    </tr>\n",
              "    <tr>\n",
              "      <th>3</th>\n",
              "      <td>3.413</td>\n",
              "      <td>5.6431</td>\n",
              "      <td>52.0</td>\n",
              "      <td>5.817352</td>\n",
              "      <td>1.073059</td>\n",
              "      <td>558.0</td>\n",
              "      <td>2.547945</td>\n",
              "      <td>37.85</td>\n",
              "      <td>-122.25</td>\n",
              "    </tr>\n",
              "    <tr>\n",
              "      <th>4</th>\n",
              "      <td>3.422</td>\n",
              "      <td>3.8462</td>\n",
              "      <td>52.0</td>\n",
              "      <td>6.281853</td>\n",
              "      <td>1.081081</td>\n",
              "      <td>565.0</td>\n",
              "      <td>2.181467</td>\n",
              "      <td>37.85</td>\n",
              "      <td>-122.25</td>\n",
              "    </tr>\n",
              "  </tbody>\n",
              "</table>\n",
              "</div>"
            ],
            "text/plain": [
              "   target  MedInc  HouseAge  ...  AveOccup  Latitude  Longitude\n",
              "0   4.526  8.3252      41.0  ...  2.555556     37.88    -122.23\n",
              "1   3.585  8.3014      21.0  ...  2.109842     37.86    -122.22\n",
              "2   3.521  7.2574      52.0  ...  2.802260     37.85    -122.24\n",
              "3   3.413  5.6431      52.0  ...  2.547945     37.85    -122.25\n",
              "4   3.422  3.8462      52.0  ...  2.181467     37.85    -122.25\n",
              "\n",
              "[5 rows x 9 columns]"
            ]
          },
          "metadata": {},
          "execution_count": 71
        }
      ]
    },
    {
      "cell_type": "markdown",
      "metadata": {
        "id": "UphnYg_A-jvY"
      },
      "source": [
        "## 문제 2. Train Test Split(Test의 비율은 0.3)"
      ]
    },
    {
      "cell_type": "code",
      "metadata": {
        "id": "tHPVJBbZ-gvK"
      },
      "source": [
        "# Train, Test 분리 전 X와 y값 우선 분리\n",
        "X = lgbm_data.iloc[:, 1:]\n",
        "y = lgbm_data.iloc[:, 0]"
      ],
      "execution_count": null,
      "outputs": []
    },
    {
      "cell_type": "code",
      "metadata": {
        "id": "AVM21DX6-6bY"
      },
      "source": [
        "# Train Test Split\n",
        "X_train, X_test, y_train, y_test = train_test_split(X, y, test_size = 0.3, random_state = 2728)"
      ],
      "execution_count": null,
      "outputs": []
    },
    {
      "cell_type": "markdown",
      "metadata": {
        "id": "3g-h5qKy_FUi"
      },
      "source": [
        "## 문제 3. LGBM 파라미터에 대한 설명\n",
        "* learning rate는 boosting step을 반복적으로 수행할 때 업데이트되는 학습률이다. learning rate를 작게 하면 예측 성능을 향상시킬 수는 있으나 학습 시간이 오래 걸린다.\n",
        "* max_depth는 트리의 최대 깊이를 나타낸다. 값이 클수록 과적합 위험이 있고, LGBM은 leaf-wise이므로 깊이가 상대적으로 더 깊다.\n",
        "* min_child_weight는 추가적으로 가지를 나눌지를 판단하기 위한 데이터들의 가중치 총합으로, 이 값이 클수록 분할을 자제하여 과적합을 조절한다.\n",
        "* n_estimators은 약한 학습기의 개수로, 개수가 많을수록 성능이 일정 수준까지는 좋아지지만 개수가 많을수록 학습 시간이 오래걸린다.\n",
        "* subsample은 약한 학습기가 학습에 사용하는 데이터의 샘플링 비율이다. 과적합 방지를 위해 1보다 작은 값으로 설정할 수 있다.\n",
        "* colsample_bytree는 칼럼에 대한 샘플링을 하는 데 사용되며, 과적합을 조정한다.\n",
        "* alpha는 L1 Regularization에 대한 값으로 과적합을 조정한다."
      ]
    },
    {
      "cell_type": "markdown",
      "metadata": {
        "id": "zPbE2iy5_Rei"
      },
      "source": [
        "## 문제 4. LGBM 하이퍼파라미터 튜닝"
      ]
    },
    {
      "cell_type": "code",
      "metadata": {
        "colab": {
          "base_uri": "https://localhost:8080/"
        },
        "id": "NFDXKvIg_DMg",
        "outputId": "553ee103-a922-4729-f35e-b4bc0087f777"
      },
      "source": [
        "# GridSearchCVf를 이용하여 최적의 하이퍼파라미터 조합 찾기\n",
        "model = LGBMRegressor(random_state = 2728)\n",
        "\n",
        "parameters = {'learning_rate': [0.01, 0.02],\n",
        "                'max_depth' : [10, 20],\n",
        "                'min_child_weight': [1, 2],\n",
        "                'n_estimators': [500, 1000],\n",
        "                'subsample': [0.6, 0.7],\n",
        "                'colsample_bytree' : [1.0],\n",
        "                'alpha' : [0.9, 1],\n",
        "                'objective' : ['regression'],\n",
        "                'metric' : ['rmse']}\n",
        "\n",
        "grid_search = GridSearchCV(estimator = model, cv = 5, param_grid = parameters, verbose = True)\n",
        "grid_search.fit(X_train, y_train)"
      ],
      "execution_count": null,
      "outputs": [
        {
          "output_type": "stream",
          "name": "stdout",
          "text": [
            "Fitting 5 folds for each of 64 candidates, totalling 320 fits\n"
          ]
        },
        {
          "output_type": "stream",
          "name": "stderr",
          "text": [
            "[Parallel(n_jobs=1)]: Using backend SequentialBackend with 1 concurrent workers.\n",
            "[Parallel(n_jobs=1)]: Done 320 out of 320 | elapsed:  9.0min finished\n"
          ]
        },
        {
          "output_type": "execute_result",
          "data": {
            "text/plain": [
              "GridSearchCV(cv=5, error_score=nan,\n",
              "             estimator=LGBMRegressor(boosting_type='gbdt', class_weight=None,\n",
              "                                     colsample_bytree=1.0,\n",
              "                                     importance_type='split', learning_rate=0.1,\n",
              "                                     max_depth=-1, min_child_samples=20,\n",
              "                                     min_child_weight=0.001, min_split_gain=0.0,\n",
              "                                     n_estimators=100, n_jobs=-1, num_leaves=31,\n",
              "                                     objective=None, random_state=2728,\n",
              "                                     reg_alpha=0.0, reg_lambda=0.0, silent=True...\n",
              "                                     subsample_freq=0),\n",
              "             iid='deprecated', n_jobs=None,\n",
              "             param_grid={'alpha': [0.9, 1], 'colsample_bytree': [1.0],\n",
              "                         'learning_rate': [0.01, 0.02], 'max_depth': [10, 20],\n",
              "                         'metric': ['rmse'], 'min_child_weight': [1, 2],\n",
              "                         'n_estimators': [500, 1000],\n",
              "                         'objective': ['regression'], 'subsample': [0.6, 0.7]},\n",
              "             pre_dispatch='2*n_jobs', refit=True, return_train_score=False,\n",
              "             scoring=None, verbose=True)"
            ]
          },
          "metadata": {},
          "execution_count": 76
        }
      ]
    },
    {
      "cell_type": "markdown",
      "metadata": {
        "id": "GJzWCb5tGhc9"
      },
      "source": [
        "## 문제 5. 최적의 파라미터 결과 출력"
      ]
    },
    {
      "cell_type": "code",
      "metadata": {
        "colab": {
          "base_uri": "https://localhost:8080/"
        },
        "id": "8HwkkjOJE4x_",
        "outputId": "1d256f8e-5c3d-4e40-ceeb-73bf4947e65b"
      },
      "source": [
        "print('best parameters : ', grid_search.best_params_)\n",
        "print('best score : ', grid_search.best_score_)"
      ],
      "execution_count": null,
      "outputs": [
        {
          "output_type": "stream",
          "name": "stdout",
          "text": [
            "best parameters :  {'alpha': 0.9, 'colsample_bytree': 1.0, 'learning_rate': 0.02, 'max_depth': 20, 'metric': 'rmse', 'min_child_weight': 1, 'n_estimators': 1000, 'objective': 'regression', 'subsample': 0.6}\n",
            "best score :  0.8409826800534546\n"
          ]
        }
      ]
    },
    {
      "cell_type": "markdown",
      "metadata": {
        "id": "L-H_2HycGnj0"
      },
      "source": [
        "## 문제 6. 테스트셋에 대하여 예측한 후 결과 출력"
      ]
    },
    {
      "cell_type": "code",
      "metadata": {
        "colab": {
          "base_uri": "https://localhost:8080/"
        },
        "id": "xMwpbuVWGtC4",
        "outputId": "d0c1a6ae-b8ac-4857-d268-2fde12564859"
      },
      "source": [
        "# 위에서 도출된 최적의 파라미터를 이용하여 모델 학습\n",
        "model = LGBMRegressor(alpha = 0.9, \n",
        "                      colsample_bytree = 1.0, \n",
        "                      learning_rate = 0.02, \n",
        "                      max_depth = 20, \n",
        "                      metric = 'rmse', \n",
        "                      min_child_weight = 1, \n",
        "                      n_estimators = 1000, \n",
        "                      objective = 'regression', \n",
        "                      subsample = 0.6, \n",
        "                      random_state = 2728)\n",
        "\n",
        "model.fit(X_train, y_train, eval_set = [(X_test, y_test)], eval_metric = 'rmse', early_stopping_rounds = 100, verbose = 100)"
      ],
      "execution_count": null,
      "outputs": [
        {
          "output_type": "stream",
          "name": "stdout",
          "text": [
            "Training until validation scores don't improve for 100 rounds.\n",
            "[100]\tvalid_0's rmse: 0.573301\n",
            "[200]\tvalid_0's rmse: 0.488877\n",
            "[300]\tvalid_0's rmse: 0.470941\n",
            "[400]\tvalid_0's rmse: 0.463099\n",
            "[500]\tvalid_0's rmse: 0.457495\n",
            "[600]\tvalid_0's rmse: 0.454576\n",
            "[700]\tvalid_0's rmse: 0.452094\n",
            "[800]\tvalid_0's rmse: 0.450292\n",
            "[900]\tvalid_0's rmse: 0.448676\n",
            "[1000]\tvalid_0's rmse: 0.448271\n",
            "Did not meet early stopping. Best iteration is:\n",
            "[989]\tvalid_0's rmse: 0.44827\n"
          ]
        },
        {
          "output_type": "execute_result",
          "data": {
            "text/plain": [
              "LGBMRegressor(alpha=0.9, boosting_type='gbdt', class_weight=None,\n",
              "              colsample_bytree=1.0, importance_type='split', learning_rate=0.02,\n",
              "              max_depth=20, metric='rmse', min_child_samples=20,\n",
              "              min_child_weight=1, min_split_gain=0.0, n_estimators=1000,\n",
              "              n_jobs=-1, num_leaves=31, objective='regression',\n",
              "              random_state=2728, reg_alpha=0.0, reg_lambda=0.0, silent=True,\n",
              "              subsample=0.6, subsample_for_bin=200000, subsample_freq=0)"
            ]
          },
          "metadata": {},
          "execution_count": 79
        }
      ]
    },
    {
      "cell_type": "code",
      "metadata": {
        "id": "1InoGcbIIYOk"
      },
      "source": [
        "# 테스트셋을 이용하여 예측\n",
        "y_pred = model.predict(X_test)"
      ],
      "execution_count": null,
      "outputs": []
    },
    {
      "cell_type": "code",
      "metadata": {
        "colab": {
          "base_uri": "https://localhost:8080/"
        },
        "id": "N7PlTZtyId8K",
        "outputId": "54a79d78-d376-4ed3-b493-b135a746ab5c"
      },
      "source": [
        "# rmse 계산\n",
        "rmse = np.sqrt(mean_squared_error(y_test, y_pred))\n",
        "print('rmse :', rmse)"
      ],
      "execution_count": null,
      "outputs": [
        {
          "output_type": "stream",
          "name": "stdout",
          "text": [
            "rmse : 0.4482698811620094\n"
          ]
        }
      ]
    },
    {
      "cell_type": "markdown",
      "metadata": {
        "id": "G2le1_74I6Bt"
      },
      "source": [
        "# Chapter 3. LSTM"
      ]
    },
    {
      "cell_type": "markdown",
      "metadata": {
        "id": "s1s_eHVMQGuo"
      },
      "source": [
        "## 문제 1. Samsung.csv 불러오기"
      ]
    },
    {
      "cell_type": "code",
      "metadata": {
        "colab": {
          "base_uri": "https://localhost:8080/",
          "height": 206
        },
        "id": "5PIXnLCSQLT8",
        "outputId": "254ff3a3-fa6b-4e6d-d70d-92ff1013cd2d"
      },
      "source": [
        "lstm_data = pd.read_csv('Samsung.csv')\n",
        "lstm_data.head()"
      ],
      "execution_count": 5,
      "outputs": [
        {
          "output_type": "execute_result",
          "data": {
            "text/html": [
              "<div>\n",
              "<style scoped>\n",
              "    .dataframe tbody tr th:only-of-type {\n",
              "        vertical-align: middle;\n",
              "    }\n",
              "\n",
              "    .dataframe tbody tr th {\n",
              "        vertical-align: top;\n",
              "    }\n",
              "\n",
              "    .dataframe thead th {\n",
              "        text-align: right;\n",
              "    }\n",
              "</style>\n",
              "<table border=\"1\" class=\"dataframe\">\n",
              "  <thead>\n",
              "    <tr style=\"text-align: right;\">\n",
              "      <th></th>\n",
              "      <th>Date</th>\n",
              "      <th>Price</th>\n",
              "      <th>Open</th>\n",
              "      <th>High</th>\n",
              "      <th>Low</th>\n",
              "      <th>Vol.</th>\n",
              "    </tr>\n",
              "  </thead>\n",
              "  <tbody>\n",
              "    <tr>\n",
              "      <th>0</th>\n",
              "      <td>2019-10-01</td>\n",
              "      <td>48,850</td>\n",
              "      <td>48,900</td>\n",
              "      <td>49,100</td>\n",
              "      <td>48,650</td>\n",
              "      <td>6.20M</td>\n",
              "    </tr>\n",
              "    <tr>\n",
              "      <th>1</th>\n",
              "      <td>2019-10-02</td>\n",
              "      <td>47,600</td>\n",
              "      <td>48,350</td>\n",
              "      <td>48,400</td>\n",
              "      <td>47,600</td>\n",
              "      <td>8.37M</td>\n",
              "    </tr>\n",
              "    <tr>\n",
              "      <th>2</th>\n",
              "      <td>2019-10-03</td>\n",
              "      <td>47,600</td>\n",
              "      <td>47,600</td>\n",
              "      <td>47,600</td>\n",
              "      <td>47,600</td>\n",
              "      <td>-</td>\n",
              "    </tr>\n",
              "    <tr>\n",
              "      <th>3</th>\n",
              "      <td>2019-10-04</td>\n",
              "      <td>48,000</td>\n",
              "      <td>47,400</td>\n",
              "      <td>48,650</td>\n",
              "      <td>47,350</td>\n",
              "      <td>8.46M</td>\n",
              "    </tr>\n",
              "    <tr>\n",
              "      <th>4</th>\n",
              "      <td>2019-10-06</td>\n",
              "      <td>48,000</td>\n",
              "      <td>48,000</td>\n",
              "      <td>48,000</td>\n",
              "      <td>48,000</td>\n",
              "      <td>-</td>\n",
              "    </tr>\n",
              "  </tbody>\n",
              "</table>\n",
              "</div>"
            ],
            "text/plain": [
              "         Date   Price    Open    High     Low   Vol.\n",
              "0  2019-10-01  48,850  48,900  49,100  48,650  6.20M\n",
              "1  2019-10-02  47,600  48,350  48,400  47,600  8.37M\n",
              "2  2019-10-03  47,600  47,600  47,600  47,600      -\n",
              "3  2019-10-04  48,000  47,400  48,650  47,350  8.46M\n",
              "4  2019-10-06  48,000  48,000  48,000  48,000      -"
            ]
          },
          "metadata": {},
          "execution_count": 5
        }
      ]
    },
    {
      "cell_type": "markdown",
      "metadata": {
        "id": "q2jCZwGdQaHx"
      },
      "source": [
        "## 문제 2. 데이터 형식 확인 및 수치형 변수 변환 "
      ]
    },
    {
      "cell_type": "code",
      "metadata": {
        "colab": {
          "base_uri": "https://localhost:8080/"
        },
        "id": "zuQkmde2QYzL",
        "outputId": "19566ef0-40d1-4e18-9395-c71131c680b1"
      },
      "source": [
        "# 열과 행 개수 확인\n",
        "lstm_data.shape"
      ],
      "execution_count": 6,
      "outputs": [
        {
          "output_type": "execute_result",
          "data": {
            "text/plain": [
              "(627, 6)"
            ]
          },
          "metadata": {},
          "execution_count": 6
        }
      ]
    },
    {
      "cell_type": "code",
      "metadata": {
        "colab": {
          "base_uri": "https://localhost:8080/"
        },
        "id": "OXkHi3B2Q1vx",
        "outputId": "b02053c5-b062-4725-f5af-923f8198669d"
      },
      "source": [
        "# 데이터의 형식 확인\n",
        "lstm_data.dtypes"
      ],
      "execution_count": 7,
      "outputs": [
        {
          "output_type": "execute_result",
          "data": {
            "text/plain": [
              "Date     object\n",
              "Price    object\n",
              "Open     object\n",
              "High     object\n",
              "Low      object\n",
              "Vol.     object\n",
              "dtype: object"
            ]
          },
          "metadata": {},
          "execution_count": 7
        }
      ]
    },
    {
      "cell_type": "code",
      "metadata": {
        "id": "2phq0IjyREgQ"
      },
      "source": [
        "# 수치형 변수에 해당하는 값들의 comma를 모두 지운 후 float 64로 변환하는 함수 만들기\n",
        "def to_numeric(x):\n",
        "  x_converted = x.replace(',','')\n",
        "  x_converted = np.float64(x_converted)\n",
        "  return x_converted"
      ],
      "execution_count": 8,
      "outputs": []
    },
    {
      "cell_type": "code",
      "metadata": {
        "id": "u4lSjrhKTC1j"
      },
      "source": [
        "# 각 칼럼의 comma를 지우고 float 64로 변환\n",
        "lstm_data['Price'] = lstm_data['Price'].apply(to_numeric)\n",
        "lstm_data['Open'] = lstm_data['Open'].apply(to_numeric)\n",
        "lstm_data['High'] = lstm_data['High'].apply(to_numeric)\n",
        "lstm_data['Low'] = lstm_data['Low'].apply(to_numeric)"
      ],
      "execution_count": 9,
      "outputs": []
    },
    {
      "cell_type": "code",
      "metadata": {
        "colab": {
          "base_uri": "https://localhost:8080/",
          "height": 206
        },
        "id": "yyBgNRuxR5WP",
        "outputId": "0bd099d9-22f4-48fd-bce2-0cf1abac9601"
      },
      "source": [
        "# 변환 결과 확인\n",
        "lstm_data.head()"
      ],
      "execution_count": 10,
      "outputs": [
        {
          "output_type": "execute_result",
          "data": {
            "text/html": [
              "<div>\n",
              "<style scoped>\n",
              "    .dataframe tbody tr th:only-of-type {\n",
              "        vertical-align: middle;\n",
              "    }\n",
              "\n",
              "    .dataframe tbody tr th {\n",
              "        vertical-align: top;\n",
              "    }\n",
              "\n",
              "    .dataframe thead th {\n",
              "        text-align: right;\n",
              "    }\n",
              "</style>\n",
              "<table border=\"1\" class=\"dataframe\">\n",
              "  <thead>\n",
              "    <tr style=\"text-align: right;\">\n",
              "      <th></th>\n",
              "      <th>Date</th>\n",
              "      <th>Price</th>\n",
              "      <th>Open</th>\n",
              "      <th>High</th>\n",
              "      <th>Low</th>\n",
              "      <th>Vol.</th>\n",
              "    </tr>\n",
              "  </thead>\n",
              "  <tbody>\n",
              "    <tr>\n",
              "      <th>0</th>\n",
              "      <td>2019-10-01</td>\n",
              "      <td>48850.0</td>\n",
              "      <td>48900.0</td>\n",
              "      <td>49100.0</td>\n",
              "      <td>48650.0</td>\n",
              "      <td>6.20M</td>\n",
              "    </tr>\n",
              "    <tr>\n",
              "      <th>1</th>\n",
              "      <td>2019-10-02</td>\n",
              "      <td>47600.0</td>\n",
              "      <td>48350.0</td>\n",
              "      <td>48400.0</td>\n",
              "      <td>47600.0</td>\n",
              "      <td>8.37M</td>\n",
              "    </tr>\n",
              "    <tr>\n",
              "      <th>2</th>\n",
              "      <td>2019-10-03</td>\n",
              "      <td>47600.0</td>\n",
              "      <td>47600.0</td>\n",
              "      <td>47600.0</td>\n",
              "      <td>47600.0</td>\n",
              "      <td>-</td>\n",
              "    </tr>\n",
              "    <tr>\n",
              "      <th>3</th>\n",
              "      <td>2019-10-04</td>\n",
              "      <td>48000.0</td>\n",
              "      <td>47400.0</td>\n",
              "      <td>48650.0</td>\n",
              "      <td>47350.0</td>\n",
              "      <td>8.46M</td>\n",
              "    </tr>\n",
              "    <tr>\n",
              "      <th>4</th>\n",
              "      <td>2019-10-06</td>\n",
              "      <td>48000.0</td>\n",
              "      <td>48000.0</td>\n",
              "      <td>48000.0</td>\n",
              "      <td>48000.0</td>\n",
              "      <td>-</td>\n",
              "    </tr>\n",
              "  </tbody>\n",
              "</table>\n",
              "</div>"
            ],
            "text/plain": [
              "         Date    Price     Open     High      Low   Vol.\n",
              "0  2019-10-01  48850.0  48900.0  49100.0  48650.0  6.20M\n",
              "1  2019-10-02  47600.0  48350.0  48400.0  47600.0  8.37M\n",
              "2  2019-10-03  47600.0  47600.0  47600.0  47600.0      -\n",
              "3  2019-10-04  48000.0  47400.0  48650.0  47350.0  8.46M\n",
              "4  2019-10-06  48000.0  48000.0  48000.0  48000.0      -"
            ]
          },
          "metadata": {},
          "execution_count": 10
        }
      ]
    },
    {
      "cell_type": "code",
      "metadata": {
        "colab": {
          "base_uri": "https://localhost:8080/"
        },
        "id": "kc-Hv58AUHJz",
        "outputId": "23396045-8534-43f6-8633-8f29dd7efc44"
      },
      "source": [
        "# 데이터 형식 변환 잘 되었는지 확인\n",
        "lstm_data.dtypes"
      ],
      "execution_count": 11,
      "outputs": [
        {
          "output_type": "execute_result",
          "data": {
            "text/plain": [
              "Date      object\n",
              "Price    float64\n",
              "Open     float64\n",
              "High     float64\n",
              "Low      float64\n",
              "Vol.      object\n",
              "dtype: object"
            ]
          },
          "metadata": {},
          "execution_count": 11
        }
      ]
    },
    {
      "cell_type": "markdown",
      "metadata": {
        "id": "AzocP-J1UQnV"
      },
      "source": [
        "## 문제 3. 테스트 데이터 분리"
      ]
    },
    {
      "cell_type": "code",
      "metadata": {
        "id": "y_6zABanUMOp"
      },
      "source": [
        "# 최근 60일이 테스트 데이터이므로 60일을 기준으로 데이터 분리\n",
        "train = lstm_data[:-60]\n",
        "test = lstm_data[-60:]"
      ],
      "execution_count": 12,
      "outputs": []
    },
    {
      "cell_type": "code",
      "metadata": {
        "colab": {
          "base_uri": "https://localhost:8080/"
        },
        "id": "CtiL93jGUofw",
        "outputId": "40cc13c8-351a-4d34-cb72-0cbcb12fea2e"
      },
      "source": [
        "# 분리 후 데이터의 행과 열 개수 확인\n",
        "print(train.shape)\n",
        "print(test.shape)"
      ],
      "execution_count": 13,
      "outputs": [
        {
          "output_type": "stream",
          "name": "stdout",
          "text": [
            "(567, 6)\n",
            "(60, 6)\n"
          ]
        }
      ]
    },
    {
      "cell_type": "markdown",
      "metadata": {
        "id": "VDEDhN5lU35m"
      },
      "source": [
        "## 문제 4. Train과 Test에 대한 스케일링 시행"
      ]
    },
    {
      "cell_type": "code",
      "metadata": {
        "id": "YjBBCQoLVAmr"
      },
      "source": [
        "# train, test 모두에 적용해야 하므로 스케일링을 진행하는 함수 생성\n",
        "def scale_columns(df):\n",
        "  scaler = MinMaxScaler()\n",
        "  df_scaled = scaler.fit_transform(df[['Price', 'Open', 'High', 'Low']])\n",
        "  df_scaled = pd.DataFrame(df_scaled)\n",
        "  df_scaled.columns = ['Price', 'Open', 'High', 'Low']\n",
        "  return df_scaled"
      ],
      "execution_count": 14,
      "outputs": []
    },
    {
      "cell_type": "code",
      "metadata": {
        "id": "hQPJGUAMVXib"
      },
      "source": [
        "# 각 데이터셋에 대한 스케일링 진행\n",
        "train_scaled = scale_columns(train)\n",
        "test_scaled = scale_columns(test)"
      ],
      "execution_count": 15,
      "outputs": []
    },
    {
      "cell_type": "code",
      "metadata": {
        "colab": {
          "base_uri": "https://localhost:8080/",
          "height": 206
        },
        "id": "UXReTLWRV61j",
        "outputId": "d6755a02-2893-4e2c-d903-ee402d6f254e"
      },
      "source": [
        "# train의 스케일링 결과 확인\n",
        "train_scaled.head()"
      ],
      "execution_count": 16,
      "outputs": [
        {
          "output_type": "execute_result",
          "data": {
            "text/html": [
              "<div>\n",
              "<style scoped>\n",
              "    .dataframe tbody tr th:only-of-type {\n",
              "        vertical-align: middle;\n",
              "    }\n",
              "\n",
              "    .dataframe tbody tr th {\n",
              "        vertical-align: top;\n",
              "    }\n",
              "\n",
              "    .dataframe thead th {\n",
              "        text-align: right;\n",
              "    }\n",
              "</style>\n",
              "<table border=\"1\" class=\"dataframe\">\n",
              "  <thead>\n",
              "    <tr style=\"text-align: right;\">\n",
              "      <th></th>\n",
              "      <th>Price</th>\n",
              "      <th>Open</th>\n",
              "      <th>High</th>\n",
              "      <th>Low</th>\n",
              "    </tr>\n",
              "  </thead>\n",
              "  <tbody>\n",
              "    <tr>\n",
              "      <th>0</th>\n",
              "      <td>0.130928</td>\n",
              "      <td>0.131524</td>\n",
              "      <td>0.104421</td>\n",
              "      <td>0.133124</td>\n",
              "    </tr>\n",
              "    <tr>\n",
              "      <th>1</th>\n",
              "      <td>0.105155</td>\n",
              "      <td>0.120042</td>\n",
              "      <td>0.091251</td>\n",
              "      <td>0.111111</td>\n",
              "    </tr>\n",
              "    <tr>\n",
              "      <th>2</th>\n",
              "      <td>0.105155</td>\n",
              "      <td>0.104384</td>\n",
              "      <td>0.076199</td>\n",
              "      <td>0.111111</td>\n",
              "    </tr>\n",
              "    <tr>\n",
              "      <th>3</th>\n",
              "      <td>0.113402</td>\n",
              "      <td>0.100209</td>\n",
              "      <td>0.095955</td>\n",
              "      <td>0.105870</td>\n",
              "    </tr>\n",
              "    <tr>\n",
              "      <th>4</th>\n",
              "      <td>0.113402</td>\n",
              "      <td>0.112735</td>\n",
              "      <td>0.083725</td>\n",
              "      <td>0.119497</td>\n",
              "    </tr>\n",
              "  </tbody>\n",
              "</table>\n",
              "</div>"
            ],
            "text/plain": [
              "      Price      Open      High       Low\n",
              "0  0.130928  0.131524  0.104421  0.133124\n",
              "1  0.105155  0.120042  0.091251  0.111111\n",
              "2  0.105155  0.104384  0.076199  0.111111\n",
              "3  0.113402  0.100209  0.095955  0.105870\n",
              "4  0.113402  0.112735  0.083725  0.119497"
            ]
          },
          "metadata": {},
          "execution_count": 16
        }
      ]
    },
    {
      "cell_type": "code",
      "metadata": {
        "colab": {
          "base_uri": "https://localhost:8080/",
          "height": 206
        },
        "id": "XtSLJQPWWB0M",
        "outputId": "c433f5b5-f464-4f74-f91a-0a1b7844e75d"
      },
      "source": [
        "# test의 스케일링 결과 확인\n",
        "test_scaled.head()"
      ],
      "execution_count": 17,
      "outputs": [
        {
          "output_type": "execute_result",
          "data": {
            "text/html": [
              "<div>\n",
              "<style scoped>\n",
              "    .dataframe tbody tr th:only-of-type {\n",
              "        vertical-align: middle;\n",
              "    }\n",
              "\n",
              "    .dataframe tbody tr th {\n",
              "        vertical-align: top;\n",
              "    }\n",
              "\n",
              "    .dataframe thead th {\n",
              "        text-align: right;\n",
              "    }\n",
              "</style>\n",
              "<table border=\"1\" class=\"dataframe\">\n",
              "  <thead>\n",
              "    <tr style=\"text-align: right;\">\n",
              "      <th></th>\n",
              "      <th>Price</th>\n",
              "      <th>Open</th>\n",
              "      <th>High</th>\n",
              "      <th>Low</th>\n",
              "    </tr>\n",
              "  </thead>\n",
              "  <tbody>\n",
              "    <tr>\n",
              "      <th>0</th>\n",
              "      <td>0.606742</td>\n",
              "      <td>0.629213</td>\n",
              "      <td>0.679012</td>\n",
              "      <td>0.629213</td>\n",
              "    </tr>\n",
              "    <tr>\n",
              "      <th>1</th>\n",
              "      <td>0.573034</td>\n",
              "      <td>0.584270</td>\n",
              "      <td>0.617284</td>\n",
              "      <td>0.528090</td>\n",
              "    </tr>\n",
              "    <tr>\n",
              "      <th>2</th>\n",
              "      <td>0.483146</td>\n",
              "      <td>0.539326</td>\n",
              "      <td>0.592593</td>\n",
              "      <td>0.528090</td>\n",
              "    </tr>\n",
              "    <tr>\n",
              "      <th>3</th>\n",
              "      <td>0.438202</td>\n",
              "      <td>0.539326</td>\n",
              "      <td>0.530864</td>\n",
              "      <td>0.460674</td>\n",
              "    </tr>\n",
              "    <tr>\n",
              "      <th>4</th>\n",
              "      <td>0.438202</td>\n",
              "      <td>0.449438</td>\n",
              "      <td>0.382716</td>\n",
              "      <td>0.483146</td>\n",
              "    </tr>\n",
              "  </tbody>\n",
              "</table>\n",
              "</div>"
            ],
            "text/plain": [
              "      Price      Open      High       Low\n",
              "0  0.606742  0.629213  0.679012  0.629213\n",
              "1  0.573034  0.584270  0.617284  0.528090\n",
              "2  0.483146  0.539326  0.592593  0.528090\n",
              "3  0.438202  0.539326  0.530864  0.460674\n",
              "4  0.438202  0.449438  0.382716  0.483146"
            ]
          },
          "metadata": {},
          "execution_count": 17
        }
      ]
    },
    {
      "cell_type": "markdown",
      "metadata": {
        "id": "uzWo_f1TWKIW"
      },
      "source": [
        "## 문제 5. Window Size에 맞게 Train과 Test 구성"
      ]
    },
    {
      "cell_type": "code",
      "metadata": {
        "id": "D2D4IgDPfrlC"
      },
      "source": [
        "# 피처와 타겟 분리\n",
        "X = train_scaled[['Open', 'High', 'Low']]\n",
        "y = train_scaled[['Price']]"
      ],
      "execution_count": 18,
      "outputs": []
    },
    {
      "cell_type": "code",
      "metadata": {
        "id": "IT7NZfHZgA8C"
      },
      "source": [
        "# window size에 맞게 데이터를 구성하는 함수 정의\n",
        "def to_ts_data(X, y, window_size = 20):\n",
        "  X_list = []\n",
        "  y_list = []\n",
        "\n",
        "  for i in range(len(X) - window_size):\n",
        "    X_list.append(np.array(X.iloc[i : i + window_size]))\n",
        "    y_list.append(np.array(y.iloc[i + window_size]))\n",
        "  \n",
        "  return np.array(X_list), np.array(y_list)"
      ],
      "execution_count": 19,
      "outputs": []
    },
    {
      "cell_type": "code",
      "metadata": {
        "id": "-0MlsDxWfDUw"
      },
      "source": [
        "# train, validation set 구성\n",
        "X, y = to_ts_data(X, y, 20)\n",
        "X_train, X_valid, y_train, y_valid = train_test_split(X, y, test_size = 0.2)"
      ],
      "execution_count": 20,
      "outputs": []
    },
    {
      "cell_type": "code",
      "metadata": {
        "colab": {
          "base_uri": "https://localhost:8080/"
        },
        "id": "QSS8XBPRhwvy",
        "outputId": "d2ed8fcd-2309-4861-f37f-10604a4362d8"
      },
      "source": [
        "print(X_train.shape)\n",
        "print(y_train.shape)"
      ],
      "execution_count": 21,
      "outputs": [
        {
          "output_type": "stream",
          "name": "stdout",
          "text": [
            "(437, 20, 3)\n",
            "(437, 1)\n"
          ]
        }
      ]
    },
    {
      "cell_type": "code",
      "metadata": {
        "id": "_1YOsIZwdtH2"
      },
      "source": [
        "# test set에 대해서도 똑같이 구성\n",
        "X_test = test_scaled[['Open', 'High', 'Low']]\n",
        "y_test = test_scaled[['Price']]\n",
        "\n",
        "X_test, y_test = to_ts_data(X_test, y_test, 20)"
      ],
      "execution_count": 22,
      "outputs": []
    },
    {
      "cell_type": "code",
      "metadata": {
        "colab": {
          "base_uri": "https://localhost:8080/"
        },
        "id": "RYwJXSA4eDWp",
        "outputId": "8e61eee8-c9a0-4405-980b-255d63e3d89a"
      },
      "source": [
        "print(X_test.shape)\n",
        "print(y_test.shape)"
      ],
      "execution_count": 23,
      "outputs": [
        {
          "output_type": "stream",
          "name": "stdout",
          "text": [
            "(40, 20, 3)\n",
            "(40, 1)\n"
          ]
        }
      ]
    },
    {
      "cell_type": "markdown",
      "metadata": {
        "id": "7w5dXmOZh7UW"
      },
      "source": [
        "## 문제 6. LSTM 모델링"
      ]
    },
    {
      "cell_type": "code",
      "metadata": {
        "id": "OtnqPq9_fBfg"
      },
      "source": [
        "model = Sequential()\n",
        "model.add(LSTM(units = 16,\n",
        "               input_shape = (X_train.shape[1], X_train.shape[2]),\n",
        "               activation = 'relu',\n",
        "               return_sequences = False))\n",
        "model.add(Dense(128))\n",
        "model.add(Dropout(0.2))\n",
        "model.add(Dense(64))\n",
        "model.add(Dense(1))\n",
        "\n",
        "model.compile(loss = 'mse', optimizer = 'adam', metrics = ['mse'])"
      ],
      "execution_count": 34,
      "outputs": []
    },
    {
      "cell_type": "markdown",
      "metadata": {
        "id": "Su-mhi6-jPCM"
      },
      "source": [
        "## 문제 7. 모델 적합 후 결과 확인"
      ]
    },
    {
      "cell_type": "code",
      "metadata": {
        "id": "Sj79SfjvfxFT"
      },
      "source": [
        "es = EarlyStopping(patience = 10)\n",
        "mc = ModelCheckpoint(filepath = 'lstm.h5', monitor = 'val_loss', verbose = 1, save_best_only = True, mode = 'auto')"
      ],
      "execution_count": 35,
      "outputs": []
    },
    {
      "cell_type": "code",
      "metadata": {
        "colab": {
          "base_uri": "https://localhost:8080/"
        },
        "id": "W6Sji0xphuwb",
        "outputId": "86cf239e-d099-419a-a032-f63a2a2246b3"
      },
      "source": [
        "model.fit(X_train, y_train, epochs = 100, batch_size = 32,\n",
        "          validation_data = (X_valid, y_valid),\n",
        "          callbacks = [es, mc])"
      ],
      "execution_count": 36,
      "outputs": [
        {
          "output_type": "stream",
          "name": "stdout",
          "text": [
            "Epoch 1/100\n",
            " 8/14 [================>.............] - ETA: 0s - loss: 0.1285 - mse: 0.1285 \n",
            "Epoch 00001: val_loss improved from inf to 0.03318, saving model to lstm.h5\n",
            "14/14 [==============================] - 2s 34ms/step - loss: 0.0893 - mse: 0.0893 - val_loss: 0.0332 - val_mse: 0.0332\n",
            "Epoch 2/100\n",
            "13/14 [==========================>...] - ETA: 0s - loss: 0.0149 - mse: 0.0149\n",
            "Epoch 00002: val_loss improved from 0.03318 to 0.01263, saving model to lstm.h5\n",
            "14/14 [==============================] - 0s 15ms/step - loss: 0.0149 - mse: 0.0149 - val_loss: 0.0126 - val_mse: 0.0126\n",
            "Epoch 3/100\n",
            "12/14 [========================>.....] - ETA: 0s - loss: 0.0072 - mse: 0.0072\n",
            "Epoch 00003: val_loss improved from 0.01263 to 0.00334, saving model to lstm.h5\n",
            "14/14 [==============================] - 0s 14ms/step - loss: 0.0072 - mse: 0.0072 - val_loss: 0.0033 - val_mse: 0.0033\n",
            "Epoch 4/100\n",
            "13/14 [==========================>...] - ETA: 0s - loss: 0.0035 - mse: 0.0035\n",
            "Epoch 00004: val_loss improved from 0.00334 to 0.00130, saving model to lstm.h5\n",
            "14/14 [==============================] - 0s 15ms/step - loss: 0.0035 - mse: 0.0035 - val_loss: 0.0013 - val_mse: 0.0013\n",
            "Epoch 5/100\n",
            "13/14 [==========================>...] - ETA: 0s - loss: 0.0029 - mse: 0.0029\n",
            "Epoch 00005: val_loss did not improve from 0.00130\n",
            "14/14 [==============================] - 0s 12ms/step - loss: 0.0029 - mse: 0.0029 - val_loss: 0.0014 - val_mse: 0.0014\n",
            "Epoch 6/100\n",
            "14/14 [==============================] - ETA: 0s - loss: 0.0025 - mse: 0.0025\n",
            "Epoch 00006: val_loss improved from 0.00130 to 0.00126, saving model to lstm.h5\n",
            "14/14 [==============================] - 0s 16ms/step - loss: 0.0025 - mse: 0.0025 - val_loss: 0.0013 - val_mse: 0.0013\n",
            "Epoch 7/100\n",
            "13/14 [==========================>...] - ETA: 0s - loss: 0.0024 - mse: 0.0024\n",
            "Epoch 00007: val_loss improved from 0.00126 to 0.00123, saving model to lstm.h5\n",
            "14/14 [==============================] - 0s 14ms/step - loss: 0.0025 - mse: 0.0025 - val_loss: 0.0012 - val_mse: 0.0012\n",
            "Epoch 8/100\n",
            "13/14 [==========================>...] - ETA: 0s - loss: 0.0027 - mse: 0.0027\n",
            "Epoch 00008: val_loss did not improve from 0.00123\n",
            "14/14 [==============================] - 0s 13ms/step - loss: 0.0026 - mse: 0.0026 - val_loss: 0.0012 - val_mse: 0.0012\n",
            "Epoch 9/100\n",
            "13/14 [==========================>...] - ETA: 0s - loss: 0.0025 - mse: 0.0025\n",
            "Epoch 00009: val_loss did not improve from 0.00123\n",
            "14/14 [==============================] - 0s 12ms/step - loss: 0.0027 - mse: 0.0027 - val_loss: 0.0013 - val_mse: 0.0013\n",
            "Epoch 10/100\n",
            "13/14 [==========================>...] - ETA: 0s - loss: 0.0021 - mse: 0.0021\n",
            "Epoch 00010: val_loss improved from 0.00123 to 0.00120, saving model to lstm.h5\n",
            "14/14 [==============================] - 0s 16ms/step - loss: 0.0021 - mse: 0.0021 - val_loss: 0.0012 - val_mse: 0.0012\n",
            "Epoch 11/100\n",
            "13/14 [==========================>...] - ETA: 0s - loss: 0.0022 - mse: 0.0022\n",
            "Epoch 00011: val_loss did not improve from 0.00120\n",
            "14/14 [==============================] - 0s 11ms/step - loss: 0.0022 - mse: 0.0022 - val_loss: 0.0012 - val_mse: 0.0012\n",
            "Epoch 12/100\n",
            "14/14 [==============================] - ETA: 0s - loss: 0.0024 - mse: 0.0024\n",
            "Epoch 00012: val_loss improved from 0.00120 to 0.00111, saving model to lstm.h5\n",
            "14/14 [==============================] - 0s 15ms/step - loss: 0.0024 - mse: 0.0024 - val_loss: 0.0011 - val_mse: 0.0011\n",
            "Epoch 13/100\n",
            "14/14 [==============================] - ETA: 0s - loss: 0.0020 - mse: 0.0020\n",
            "Epoch 00013: val_loss did not improve from 0.00111\n",
            "14/14 [==============================] - 0s 12ms/step - loss: 0.0020 - mse: 0.0020 - val_loss: 0.0011 - val_mse: 0.0011\n",
            "Epoch 14/100\n",
            "13/14 [==========================>...] - ETA: 0s - loss: 0.0021 - mse: 0.0021\n",
            "Epoch 00014: val_loss improved from 0.00111 to 0.00100, saving model to lstm.h5\n",
            "14/14 [==============================] - 0s 16ms/step - loss: 0.0021 - mse: 0.0021 - val_loss: 0.0010 - val_mse: 0.0010\n",
            "Epoch 15/100\n",
            "13/14 [==========================>...] - ETA: 0s - loss: 0.0021 - mse: 0.0021\n",
            "Epoch 00015: val_loss did not improve from 0.00100\n",
            "14/14 [==============================] - 0s 12ms/step - loss: 0.0020 - mse: 0.0020 - val_loss: 0.0010 - val_mse: 0.0010\n",
            "Epoch 16/100\n",
            "13/14 [==========================>...] - ETA: 0s - loss: 0.0018 - mse: 0.0018\n",
            "Epoch 00016: val_loss did not improve from 0.00100\n",
            "14/14 [==============================] - 0s 11ms/step - loss: 0.0018 - mse: 0.0018 - val_loss: 0.0010 - val_mse: 0.0010\n",
            "Epoch 17/100\n",
            "13/14 [==========================>...] - ETA: 0s - loss: 0.0021 - mse: 0.0021\n",
            "Epoch 00017: val_loss improved from 0.00100 to 0.00091, saving model to lstm.h5\n",
            "14/14 [==============================] - 0s 16ms/step - loss: 0.0020 - mse: 0.0020 - val_loss: 9.0950e-04 - val_mse: 9.0950e-04\n",
            "Epoch 18/100\n",
            "14/14 [==============================] - ETA: 0s - loss: 0.0019 - mse: 0.0019\n",
            "Epoch 00018: val_loss did not improve from 0.00091\n",
            "14/14 [==============================] - 0s 11ms/step - loss: 0.0019 - mse: 0.0019 - val_loss: 0.0010 - val_mse: 0.0010\n",
            "Epoch 19/100\n",
            "13/14 [==========================>...] - ETA: 0s - loss: 0.0020 - mse: 0.0020\n",
            "Epoch 00019: val_loss did not improve from 0.00091\n",
            "14/14 [==============================] - 0s 11ms/step - loss: 0.0019 - mse: 0.0019 - val_loss: 0.0010 - val_mse: 0.0010\n",
            "Epoch 20/100\n",
            "12/14 [========================>.....] - ETA: 0s - loss: 0.0019 - mse: 0.0019\n",
            "Epoch 00020: val_loss improved from 0.00091 to 0.00090, saving model to lstm.h5\n",
            "14/14 [==============================] - 0s 17ms/step - loss: 0.0019 - mse: 0.0019 - val_loss: 9.0278e-04 - val_mse: 9.0278e-04\n",
            "Epoch 21/100\n",
            "12/14 [========================>.....] - ETA: 0s - loss: 0.0015 - mse: 0.0015\n",
            "Epoch 00021: val_loss did not improve from 0.00090\n",
            "14/14 [==============================] - 0s 12ms/step - loss: 0.0017 - mse: 0.0017 - val_loss: 9.4092e-04 - val_mse: 9.4092e-04\n",
            "Epoch 22/100\n",
            "12/14 [========================>.....] - ETA: 0s - loss: 0.0016 - mse: 0.0016\n",
            "Epoch 00022: val_loss did not improve from 0.00090\n",
            "14/14 [==============================] - 0s 12ms/step - loss: 0.0017 - mse: 0.0017 - val_loss: 9.7219e-04 - val_mse: 9.7219e-04\n",
            "Epoch 23/100\n",
            "13/14 [==========================>...] - ETA: 0s - loss: 0.0017 - mse: 0.0017\n",
            "Epoch 00023: val_loss did not improve from 0.00090\n",
            "14/14 [==============================] - 0s 11ms/step - loss: 0.0017 - mse: 0.0017 - val_loss: 9.5822e-04 - val_mse: 9.5822e-04\n",
            "Epoch 24/100\n",
            "13/14 [==========================>...] - ETA: 0s - loss: 0.0014 - mse: 0.0014\n",
            "Epoch 00024: val_loss improved from 0.00090 to 0.00085, saving model to lstm.h5\n",
            "14/14 [==============================] - 0s 15ms/step - loss: 0.0014 - mse: 0.0014 - val_loss: 8.5248e-04 - val_mse: 8.5248e-04\n",
            "Epoch 25/100\n",
            "13/14 [==========================>...] - ETA: 0s - loss: 0.0015 - mse: 0.0015\n",
            "Epoch 00025: val_loss improved from 0.00085 to 0.00084, saving model to lstm.h5\n",
            "14/14 [==============================] - 0s 16ms/step - loss: 0.0015 - mse: 0.0015 - val_loss: 8.4330e-04 - val_mse: 8.4330e-04\n",
            "Epoch 26/100\n",
            "13/14 [==========================>...] - ETA: 0s - loss: 0.0017 - mse: 0.0017\n",
            "Epoch 00026: val_loss did not improve from 0.00084\n",
            "14/14 [==============================] - 0s 12ms/step - loss: 0.0017 - mse: 0.0017 - val_loss: 9.8826e-04 - val_mse: 9.8826e-04\n",
            "Epoch 27/100\n",
            "12/14 [========================>.....] - ETA: 0s - loss: 0.0016 - mse: 0.0016\n",
            "Epoch 00027: val_loss did not improve from 0.00084\n",
            "14/14 [==============================] - 0s 12ms/step - loss: 0.0016 - mse: 0.0016 - val_loss: 8.5471e-04 - val_mse: 8.5471e-04\n",
            "Epoch 28/100\n",
            "14/14 [==============================] - ETA: 0s - loss: 0.0015 - mse: 0.0015\n",
            "Epoch 00028: val_loss did not improve from 0.00084\n",
            "14/14 [==============================] - 0s 12ms/step - loss: 0.0015 - mse: 0.0015 - val_loss: 8.7018e-04 - val_mse: 8.7018e-04\n",
            "Epoch 29/100\n",
            "13/14 [==========================>...] - ETA: 0s - loss: 0.0014 - mse: 0.0014\n",
            "Epoch 00029: val_loss improved from 0.00084 to 0.00081, saving model to lstm.h5\n",
            "14/14 [==============================] - 0s 15ms/step - loss: 0.0014 - mse: 0.0014 - val_loss: 8.1063e-04 - val_mse: 8.1063e-04\n",
            "Epoch 30/100\n",
            "12/14 [========================>.....] - ETA: 0s - loss: 0.0015 - mse: 0.0015\n",
            "Epoch 00030: val_loss improved from 0.00081 to 0.00079, saving model to lstm.h5\n",
            "14/14 [==============================] - 0s 16ms/step - loss: 0.0015 - mse: 0.0015 - val_loss: 7.9387e-04 - val_mse: 7.9387e-04\n",
            "Epoch 31/100\n",
            "12/14 [========================>.....] - ETA: 0s - loss: 0.0015 - mse: 0.0015\n",
            "Epoch 00031: val_loss did not improve from 0.00079\n",
            "14/14 [==============================] - 0s 12ms/step - loss: 0.0015 - mse: 0.0015 - val_loss: 8.2253e-04 - val_mse: 8.2253e-04\n",
            "Epoch 32/100\n",
            "12/14 [========================>.....] - ETA: 0s - loss: 0.0014 - mse: 0.0014\n",
            "Epoch 00032: val_loss did not improve from 0.00079\n",
            "14/14 [==============================] - 0s 13ms/step - loss: 0.0013 - mse: 0.0013 - val_loss: 8.2345e-04 - val_mse: 8.2345e-04\n",
            "Epoch 33/100\n",
            "12/14 [========================>.....] - ETA: 0s - loss: 0.0011 - mse: 0.0011        \n",
            "Epoch 00033: val_loss improved from 0.00079 to 0.00078, saving model to lstm.h5\n",
            "14/14 [==============================] - 0s 16ms/step - loss: 0.0012 - mse: 0.0012 - val_loss: 7.7749e-04 - val_mse: 7.7749e-04\n",
            "Epoch 34/100\n",
            "14/14 [==============================] - ETA: 0s - loss: 0.0011 - mse: 0.0011\n",
            "Epoch 00034: val_loss improved from 0.00078 to 0.00076, saving model to lstm.h5\n",
            "14/14 [==============================] - 0s 14ms/step - loss: 0.0011 - mse: 0.0011 - val_loss: 7.5931e-04 - val_mse: 7.5931e-04\n",
            "Epoch 35/100\n",
            "14/14 [==============================] - ETA: 0s - loss: 0.0015 - mse: 0.0015\n",
            "Epoch 00035: val_loss did not improve from 0.00076\n",
            "14/14 [==============================] - 0s 11ms/step - loss: 0.0015 - mse: 0.0015 - val_loss: 0.0011 - val_mse: 0.0011\n",
            "Epoch 36/100\n",
            "13/14 [==========================>...] - ETA: 0s - loss: 0.0015 - mse: 0.0015\n",
            "Epoch 00036: val_loss did not improve from 0.00076\n",
            "14/14 [==============================] - 0s 13ms/step - loss: 0.0015 - mse: 0.0015 - val_loss: 8.0193e-04 - val_mse: 8.0193e-04\n",
            "Epoch 37/100\n",
            "13/14 [==========================>...] - ETA: 0s - loss: 0.0014 - mse: 0.0014\n",
            "Epoch 00037: val_loss did not improve from 0.00076\n",
            "14/14 [==============================] - 0s 12ms/step - loss: 0.0014 - mse: 0.0014 - val_loss: 8.2203e-04 - val_mse: 8.2203e-04\n",
            "Epoch 38/100\n",
            "13/14 [==========================>...] - ETA: 0s - loss: 0.0012 - mse: 0.0012\n",
            "Epoch 00038: val_loss did not improve from 0.00076\n",
            "14/14 [==============================] - 0s 12ms/step - loss: 0.0012 - mse: 0.0012 - val_loss: 9.5893e-04 - val_mse: 9.5893e-04\n",
            "Epoch 39/100\n",
            "13/14 [==========================>...] - ETA: 0s - loss: 0.0012 - mse: 0.0012\n",
            "Epoch 00039: val_loss did not improve from 0.00076\n",
            "14/14 [==============================] - 0s 11ms/step - loss: 0.0012 - mse: 0.0012 - val_loss: 7.7625e-04 - val_mse: 7.7625e-04\n",
            "Epoch 40/100\n",
            "13/14 [==========================>...] - ETA: 0s - loss: 0.0015 - mse: 0.0015\n",
            "Epoch 00040: val_loss did not improve from 0.00076\n",
            "14/14 [==============================] - 0s 11ms/step - loss: 0.0016 - mse: 0.0016 - val_loss: 0.0012 - val_mse: 0.0012\n",
            "Epoch 41/100\n",
            " 8/14 [================>.............] - ETA: 0s - loss: 0.0020 - mse: 0.0020\n",
            "Epoch 00041: val_loss did not improve from 0.00076\n",
            "14/14 [==============================] - 0s 11ms/step - loss: 0.0017 - mse: 0.0017 - val_loss: 0.0010 - val_mse: 0.0010\n",
            "Epoch 42/100\n",
            "13/14 [==========================>...] - ETA: 0s - loss: 0.0012 - mse: 0.0012\n",
            "Epoch 00042: val_loss did not improve from 0.00076\n",
            "14/14 [==============================] - 0s 11ms/step - loss: 0.0012 - mse: 0.0012 - val_loss: 7.7612e-04 - val_mse: 7.7612e-04\n",
            "Epoch 43/100\n",
            "13/14 [==========================>...] - ETA: 0s - loss: 0.0013 - mse: 0.0013\n",
            "Epoch 00043: val_loss did not improve from 0.00076\n",
            "14/14 [==============================] - 0s 11ms/step - loss: 0.0013 - mse: 0.0013 - val_loss: 8.2672e-04 - val_mse: 8.2672e-04\n",
            "Epoch 44/100\n",
            "13/14 [==========================>...] - ETA: 0s - loss: 0.0012 - mse: 0.0012\n",
            "Epoch 00044: val_loss did not improve from 0.00076\n",
            "14/14 [==============================] - 0s 12ms/step - loss: 0.0012 - mse: 0.0012 - val_loss: 8.5875e-04 - val_mse: 8.5875e-04\n"
          ]
        },
        {
          "output_type": "execute_result",
          "data": {
            "text/plain": [
              "<keras.callbacks.History at 0x7f46421a6cd0>"
            ]
          },
          "metadata": {},
          "execution_count": 36
        }
      ]
    },
    {
      "cell_type": "markdown",
      "metadata": {
        "id": "KuH6SZ6djhPR"
      },
      "source": [
        "## 문제 8. 테스트 데이터에 대해 예측 후 결과 시각화"
      ]
    },
    {
      "cell_type": "code",
      "metadata": {
        "id": "HqY34GxGiQC1"
      },
      "source": [
        "# test에 대하여 예측\n",
        "model.load_weights('lstm.h5')\n",
        "y_pred = model.predict(X_test)"
      ],
      "execution_count": 37,
      "outputs": []
    },
    {
      "cell_type": "code",
      "metadata": {
        "colab": {
          "base_uri": "https://localhost:8080/",
          "height": 862
        },
        "id": "OSGIQoK8icb9",
        "outputId": "e768a36a-c1a2-4361-9a7e-5ea60792608e"
      },
      "source": [
        "# 결과 시각화\n",
        "plt.figure(figsize=(15, 15))\n",
        "plt.plot(y_test, label = 'true y')\n",
        "plt.plot(y_pred, label = 'pred y')\n",
        "plt.legend()\n",
        "plt.show()"
      ],
      "execution_count": 38,
      "outputs": [
        {
          "output_type": "display_data",
          "data": {
            "image/png": "[encoded data removed]",
            "text/plain": [
              "<Figure size 1080x1080 with 1 Axes>"
            ]
          },
          "metadata": {
            "needs_background": "light"
          }
        }
      ]
    }
  ]
}